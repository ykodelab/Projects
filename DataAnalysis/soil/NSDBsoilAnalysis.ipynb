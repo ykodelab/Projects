{
 "cells": [
  {
   "cell_type": "markdown",
   "id": "3908230b-d90d-49ec-8755-28c232d13868",
   "metadata": {},
   "source": [
    "# Soil Analaysis using NSDB from the Government of Canada"
   ]
  },
  {
   "cell_type": "code",
   "execution_count": 2,
   "id": "61752ec9-6f2a-4fe8-b925-5d1ef846cae1",
   "metadata": {},
   "outputs": [],
   "source": [
    "import geopandas as gpd\n",
    "import pandas as pd\n",
    "import seaborn as sns\n",
    "import matplotlib.pyplot as plt\n",
    "\n",
    "gdf = gpd.read_file(\"soil_layer_canada.dbf\")"
   ]
  },
  {
   "cell_type": "code",
   "execution_count": 3,
   "id": "82998513-705f-4400-a21c-7b93f2c94895",
   "metadata": {},
   "outputs": [
    {
     "name": "stdout",
     "output_type": "stream",
     "text": [
      "       SOIL_ID PROVINCE SOIL_CODE MODIFIER PROFILE  LAYER_NO  UDEPTH  LDEPTH  \\\n",
      "0  ABABCgl~~~N       AB       ABC    gl~~~       N         1      -5       0   \n",
      "1  ABABCgl~~~N       AB       ABC    gl~~~       N         2       0      13   \n",
      "2  ABABCgl~~~N       AB       ABC    gl~~~       N         3      13      23   \n",
      "3  ABABCgl~~~N       AB       ABC    gl~~~       N         4      23      58   \n",
      "4  ABABCgl~~~N       AB       ABC    gl~~~       N         5      58      91   \n",
      "\n",
      "  HZN_LIT HZN_MAS  ...  KSAT KP0  KP10 KP33  KP1500    BD  EC  CACO3  VONPOST  \\\n",
      "0    None      LH  ...  30.0  80    60   -9      20  0.10   0      0        4   \n",
      "1    None       A  ...  10.0  49    -9   18       8  1.35   0      0       -9   \n",
      "2    None      AB  ...  10.0  45    -9   28      15  1.45   0      0       -9   \n",
      "3    None       B  ...   3.0  42    -9   36      22  1.55   0      0       -9   \n",
      "4    None       B  ...   3.0  42    -9   35      21  1.55   0      0       -9   \n",
      "\n",
      "   WOOD  \n",
      "0     5  \n",
      "1    -9  \n",
      "2    -9  \n",
      "3    -9  \n",
      "4    -9  \n",
      "\n",
      "[5 rows x 33 columns]\n"
     ]
    }
   ],
   "source": [
    "print(gdf.head())"
   ]
  },
  {
   "cell_type": "code",
   "execution_count": 4,
   "id": "41bcbe98-a0ee-4d91-a76f-306a7715e55f",
   "metadata": {},
   "outputs": [
    {
     "name": "stdout",
     "output_type": "stream",
     "text": [
      "           SOIL_ID PROVINCE SOIL_CODE MODIFIER PROFILE  LAYER_NO  UDEPTH  \\\n",
      "64475  YTYUN~~~~~N       YT       YUN    ~~~~~       N         5      50   \n",
      "64476  YTZMA~~~~~N       YT       ZMA    ~~~~~       N         1       0   \n",
      "64477  YTZMA~~~~~N       YT       ZMA    ~~~~~       N         2       1   \n",
      "64478  YTZMA~~~~~N       YT       ZMA    ~~~~~       N         3       2   \n",
      "64479  ONZZZ~~~~~N       ON       ZZZ    ~~~~~       N         1       0   \n",
      "\n",
      "       LDEPTH HZN_LIT HZN_MAS  ...  KSAT KP0  KP10 KP33  KP1500    BD  EC  \\\n",
      "64475     100    None       C  ...  30.0  40    15    4       2  1.20   0   \n",
      "64476       1    None       C  ...   5.0  45    20   10       4  1.00   1   \n",
      "64477       2    None       H  ...   5.0  92    70   55      26  0.08   1   \n",
      "64478     100    None       C  ...   1.0  50    35   32      17  1.20   1   \n",
      "64479     100    None       -  ...  -9.0  -9    -9   -9      -9 -9.00  -9   \n",
      "\n",
      "       CACO3  VONPOST  WOOD  \n",
      "64475      3       -9    -9  \n",
      "64476      0       -9    -9  \n",
      "64477     20        7     0  \n",
      "64478     20       -9    -9  \n",
      "64479     -9       -9    -9  \n",
      "\n",
      "[5 rows x 33 columns]\n"
     ]
    }
   ],
   "source": [
    "print(gdf.tail())"
   ]
  },
  {
   "cell_type": "code",
   "execution_count": 5,
   "id": "b31aa2fe-6f36-4384-b6dc-2c79ada6b86e",
   "metadata": {},
   "outputs": [
    {
     "name": "stdout",
     "output_type": "stream",
     "text": [
      "<class 'pandas.core.frame.DataFrame'>\n",
      "RangeIndex: 64480 entries, 0 to 64479\n",
      "Data columns (total 33 columns):\n",
      " #   Column     Non-Null Count  Dtype  \n",
      "---  ------     --------------  -----  \n",
      " 0   SOIL_ID    64480 non-null  object \n",
      " 1   PROVINCE   64480 non-null  object \n",
      " 2   SOIL_CODE  64480 non-null  object \n",
      " 3   MODIFIER   64480 non-null  object \n",
      " 4   PROFILE    64480 non-null  object \n",
      " 5   LAYER_NO   64480 non-null  int32  \n",
      " 6   UDEPTH     64480 non-null  int32  \n",
      " 7   LDEPTH     64480 non-null  int32  \n",
      " 8   HZN_LIT    5770 non-null   object \n",
      " 9   HZN_MAS    64477 non-null  object \n",
      " 10  HZN_SUF    52745 non-null  object \n",
      " 11  HZN_MOD    11201 non-null  object \n",
      " 12  COFRAG     64480 non-null  int32  \n",
      " 13  DOMSAND    64480 non-null  object \n",
      " 14  VFSAND     64480 non-null  int32  \n",
      " 15  TSAND      64480 non-null  int32  \n",
      " 16  TSILT      64480 non-null  int32  \n",
      " 17  TCLAY      64480 non-null  int32  \n",
      " 18  ORGCARB    64480 non-null  float64\n",
      " 19  PHCA       64480 non-null  float64\n",
      " 20  PH2        64480 non-null  float64\n",
      " 21  BASES      64480 non-null  int32  \n",
      " 22  CEC        64480 non-null  int32  \n",
      " 23  KSAT       64480 non-null  float64\n",
      " 24  KP0        64480 non-null  int32  \n",
      " 25  KP10       64480 non-null  int32  \n",
      " 26  KP33       64480 non-null  int32  \n",
      " 27  KP1500     64480 non-null  int32  \n",
      " 28  BD         64480 non-null  float64\n",
      " 29  EC         64480 non-null  int32  \n",
      " 30  CACO3      64480 non-null  int32  \n",
      " 31  VONPOST    64480 non-null  int32  \n",
      " 32  WOOD       64480 non-null  int32  \n",
      "dtypes: float64(5), int32(18), object(10)\n",
      "memory usage: 11.8+ MB\n",
      "None\n"
     ]
    }
   ],
   "source": [
    "print(gdf.info())  "
   ]
  },
  {
   "cell_type": "markdown",
   "id": "27933896-a9ec-447e-9302-8e2807df770b",
   "metadata": {},
   "source": [
    "## Divide into two tables for further quantitative analysis - Looking for trends"
   ]
  },
  {
   "cell_type": "code",
   "execution_count": 6,
   "id": "eeed0ad0-8fcf-4fa3-b5b3-6001880a7e70",
   "metadata": {},
   "outputs": [
    {
     "name": "stdout",
     "output_type": "stream",
     "text": [
      "Soil Properties Table:\n",
      "       SOIL_ID PROVINCE SOIL_CODE MODIFIER PROFILE\n",
      "0  ABABCgl~~~N       AB       ABC    gl~~~       N\n",
      "1  ABABCgl~~~N       AB       ABC    gl~~~       N\n",
      "2  ABABCgl~~~N       AB       ABC    gl~~~       N\n",
      "3  ABABCgl~~~N       AB       ABC    gl~~~       N\n",
      "4  ABABCgl~~~N       AB       ABC    gl~~~       N\n",
      "\n",
      "Layer Properties Table:\n",
      "       SOIL_ID  LAYER_NO  UDEPTH  LDEPTH  KSAT    BD  CACO3\n",
      "0  ABABCgl~~~N         1      -5       0  30.0  0.10      0\n",
      "1  ABABCgl~~~N         2       0      13  10.0  1.35      0\n",
      "2  ABABCgl~~~N         3      13      23  10.0  1.45      0\n",
      "3  ABABCgl~~~N         4      23      58   3.0  1.55      0\n",
      "4  ABABCgl~~~N         5      58      91   3.0  1.55      0\n"
     ]
    }
   ],
   "source": [
    "gdf_soil_properties = gdf[['SOIL_ID', 'PROVINCE', 'SOIL_CODE', 'MODIFIER', 'PROFILE']]\n",
    "gdf_layer_properties = gdf[['SOIL_ID', 'LAYER_NO', 'UDEPTH', 'LDEPTH', 'KSAT', 'BD', 'CACO3']]\n",
    "\n",
    "print(\"Soil Properties Table:\")\n",
    "print(gdf_soil_properties.head())\n",
    "\n",
    "print(\"\\nLayer Properties Table:\")\n",
    "print(gdf_layer_properties.head())"
   ]
  },
  {
   "cell_type": "code",
   "execution_count": 7,
   "id": "c2d54fd8-b080-4d8e-86ed-571561990a5c",
   "metadata": {},
   "outputs": [
    {
     "data": {
      "image/png": "[encoded data removed]",
      "text/plain": [
       "<Figure size 640x480 with 1 Axes>"
      ]
     },
     "metadata": {},
     "output_type": "display_data"
    }
   ],
   "source": [
    "plt.scatter(gdf_layer_properties['KSAT'], gdf_layer_properties['BD'])\n",
    "plt.xlabel('KSAT (saturated hydraulic conductivity)')\n",
    "plt.ylabel('BD (bulk density)')\n",
    "plt.title('KSAT vs BD')\n",
    "plt.show()"
   ]
  },
  {
   "cell_type": "code",
   "execution_count": 8,
   "id": "46a62798-17d4-4561-91af-59355844272a",
   "metadata": {},
   "outputs": [
    {
     "name": "stdout",
     "output_type": "stream",
     "text": [
      "[30.   10.    3.   ...  1.09  3.76  5.36]\n",
      "[ 0.1   1.35  1.45  1.55  1.25  0.08  1.4   1.5   1.    1.3   0.9   1.15\n",
      "  2.    1.1   0.12  1.2   1.65  0.95  0.06  0.2   0.18  0.05  1.6   1.05\n",
      "  0.6   0.15  0.25  0.3  -9.    2.65  0.11  1.57  0.22  1.32  1.41  1.56\n",
      "  1.14  1.59  1.42  0.4   0.17  1.54  1.47  1.85  1.84  1.7   0.28  1.33\n",
      "  1.44  1.58  1.63  1.34  1.52  1.69  1.73  1.08  1.19  1.31  1.24  1.75\n",
      "  1.8   0.5   1.86  1.87  0.13  1.48  1.49  1.62  1.68  0.14  1.13  1.64\n",
      "  1.27  0.46  0.82  1.16  1.23  1.28  1.36  0.21  0.23  1.66  1.26  1.46\n",
      "  2.1   1.95  1.37  1.82  1.38  0.99  1.29  1.39  1.17  1.53  1.61  1.88\n",
      "  1.11  0.8   2.13  1.06  1.76  1.22  0.69  0.89  0.74  1.43  1.92  1.51\n",
      "  1.18  1.04  1.09  1.21  1.98  1.67  0.97  0.71  0.68  0.7   1.79  0.27\n",
      "  0.42  1.12  1.91  1.74  1.94  1.9   2.08  1.71  1.81  0.88  0.81  0.04\n",
      "  1.72  0.16  0.92  1.07  1.03  0.75  0.77  0.39  1.77  1.89  1.83  0.85\n",
      "  0.93  1.01  1.78  0.35  0.45  0.31  0.94  0.96  2.07  0.72  1.99  1.96\n",
      "  2.06  0.38  0.91  2.8   0.09  0.07  0.34  1.02  0.32  0.24  2.75  2.7\n",
      "  0.98  0.19  0.59  2.25  0.66  0.26  2.55  0.57  2.45  0.64  0.83  0.29\n",
      "  0.86  0.87  0.37  0.47  0.62  0.51  0.54  0.67  0.52  0.41  0.55  0.43\n",
      "  0.56  0.53  0.49  0.48  0.63  0.33  0.44  0.36  0.61  0.65  0.76  0.73\n",
      "  0.84  0.58  0.78  2.6   1.93  0.01  1.97  2.09  2.05  2.11]\n"
     ]
    }
   ],
   "source": [
    "print(gdf_layer_properties['KSAT'].unique())\n",
    "print(gdf_layer_properties['BD'].unique())"
   ]
  },
  {
   "cell_type": "code",
   "execution_count": 9,
   "id": "6ad2c9d0-9de8-4367-b7dd-65fa6a5042ef",
   "metadata": {},
   "outputs": [
    {
     "data": {
      "image/png": "[encoded data removed]",
      "text/plain": [
       "<Figure size 640x480 with 1 Axes>"
      ]
     },
     "metadata": {},
     "output_type": "display_data"
    }
   ],
   "source": [
    "plt.scatter(gdf_layer_properties['KSAT'], gdf_layer_properties['BD'])\n",
    "plt.xlabel('KSAT (saturated hydraulic conductivity)')\n",
    "plt.ylabel('BD (bulk density)')\n",
    "plt.title('KSAT vs BD')\n",
    "plt.ylim(0, 2) \n",
    "plt.show()"
   ]
  },
  {
   "cell_type": "code",
   "execution_count": 10,
   "id": "4889d292-2670-4501-8d0b-9b9074cb6d5f",
   "metadata": {},
   "outputs": [
    {
     "data": {
      "image/png": "[encoded data removed]",
      "text/plain": [
       "<Figure size 640x480 with 2 Axes>"
      ]
     },
     "metadata": {},
     "output_type": "display_data"
    }
   ],
   "source": [
    "correlation_matrix = gdf_layer_properties[['KSAT', 'BD', 'CACO3']].corr()\n",
    "\n",
    "sns.heatmap(correlation_matrix, annot=True, cmap='coolwarm', fmt='.2f')\n",
    "plt.title('Correlation Matrix')\n",
    "plt.show()\n"
   ]
  },
  {
   "cell_type": "markdown",
   "id": "499f0424-0e34-4f0f-a1fc-cfc3b903cd13",
   "metadata": {},
   "source": [
    "## Conclusion: No linear correlation between these 3 vars -> evidenced by KSAT and BD plot "
   ]
  },
  {
   "cell_type": "markdown",
   "id": "f64f5898-5bb1-405c-9f8b-c2b45c14eac0",
   "metadata": {},
   "source": [
    "### Use describe method for quantitative properties of the soil"
   ]
  },
  {
   "cell_type": "code",
   "execution_count": 11,
   "id": "8e8cc8a2-87d6-431b-8af5-003c9cb7d91c",
   "metadata": {},
   "outputs": [
    {
     "name": "stdout",
     "output_type": "stream",
     "text": [
      "           LAYER_NO        UDEPTH        LDEPTH          KSAT            BD  \\\n",
      "count  64480.000000  64480.000000  64480.000000  64480.000000  64480.000000   \n",
      "mean       3.024271     28.483033     52.409181     10.163439      1.253128   \n",
      "std        1.675477     30.966514     41.897012     15.234723      0.880635   \n",
      "min        1.000000    -70.000000    -48.000000     -9.000000     -9.000000   \n",
      "25%        2.000000      0.000000     18.000000      1.000000      1.300000   \n",
      "50%        3.000000     20.000000     43.000000      3.000000      1.400000   \n",
      "75%        4.000000     48.000000     92.000000     10.000000      1.500000   \n",
      "max        9.000000    384.000000    999.000000     99.000000      2.800000   \n",
      "\n",
      "              CACO3  \n",
      "count  64480.000000  \n",
      "mean       4.225605  \n",
      "std        9.271740  \n",
      "min       -9.000000  \n",
      "25%        0.000000  \n",
      "50%        0.000000  \n",
      "75%        5.000000  \n",
      "max       97.000000  \n"
     ]
    }
   ],
   "source": [
    "qtive_summary  = gdf_layer_properties.describe()\n",
    "print(qtive_summary)"
   ]
  },
  {
   "cell_type": "markdown",
   "id": "a5c7ec2d-bf80-45a6-b20a-9f2534ee23c5",
   "metadata": {},
   "source": [
    "# Reviewing the Soil Name File"
   ]
  },
  {
   "cell_type": "code",
   "execution_count": 12,
   "id": "df849f2e-9087-4e16-8086-c6e2adab7a15",
   "metadata": {},
   "outputs": [],
   "source": [
    "import geopandas as gpd\n",
    "\n",
    "gdf_name = gpd.read_file(\"soil_name_canada.dbf\")"
   ]
  },
  {
   "cell_type": "code",
   "execution_count": 13,
   "id": "a76e4486-2adf-46a2-8b63-ac5af32e88d2",
   "metadata": {},
   "outputs": [
    {
     "name": "stdout",
     "output_type": "stream",
     "text": [
      "       SOIL_ID PROVINCE SOIL_CODE MODIFIER PROFILE   SOILNAME KIND WATERTBL  \\\n",
      "0  ABABCgl~~~N       AB       ABC    gl~~~       N  ATHABASCA    M       YU   \n",
      "1  ABABCst~~~A       AB       ABC    st~~~       A  ATHABASCA    M       NO   \n",
      "2  ABABCst~~~N       AB       ABC    st~~~       N  ATHABASCA    M       NO   \n",
      "3  ABABC~~~~~A       AB       ABC    ~~~~~       A  ATHABASCA    M       NO   \n",
      "4  ABABC~~~~~N       AB       ABC    ~~~~~       N  ATHABASCA    M       NO   \n",
      "\n",
      "  ROOTRESTRI RESTR_TYPE  ... PMCHEM3 MDEP1 MDEP2 MDEP3 ORDER2 G_GROUP2  \\\n",
      "0          0          -  ...       -  TILL     -     -   None     None   \n",
      "1          0          -  ...       -  TILL     -     -   None     None   \n",
      "2          0          -  ...       -  TILL     -     -   None     None   \n",
      "3          0          -  ...       -  TILL     -     -   None     None   \n",
      "4          0          -  ...       -  TILL     -     -   None     None   \n",
      "\n",
      "  S_GROUP2 ORDER3 G_GROUP3 S_GROUP3  \n",
      "0     None     LU       GL       GL  \n",
      "1     None     LU       GL        O  \n",
      "2     None     LU       GL        O  \n",
      "3     None     LU       GL        O  \n",
      "4     None     LU       GL        O  \n",
      "\n",
      "[5 rows x 26 columns]\n"
     ]
    }
   ],
   "source": [
    "print(gdf_name.head())"
   ]
  },
  {
   "cell_type": "markdown",
   "id": "d40d8f93-605d-4f90-9b41-292f6582285a",
   "metadata": {},
   "source": [
    "# Soil Capability Data"
   ]
  },
  {
   "cell_type": "code",
   "execution_count": 14,
   "id": "90d75e1d-a8c3-49f3-b3b5-ec04ceed34d1",
   "metadata": {},
   "outputs": [],
   "source": [
    "gdf_MTL_fundl = gpd.read_file(\"s031h.dbf\")"
   ]
  },
  {
   "cell_type": "code",
   "execution_count": 15,
   "id": "e93492bf-b45d-4a1f-9080-c36eda3ab9ad",
   "metadata": {},
   "outputs": [
    {
     "name": "stdout",
     "output_type": "stream",
     "text": [
      "         AREA  PERIMETER  NUM     ID USE      TYPE\n",
      "0    0.236458   3.272546    2   4186   L      LAND\n",
      "1    0.054949   9.438440    3   4451   Z     WATER\n",
      "2    0.377080   4.163283    4   4525   L      LAND\n",
      "3    0.006749   2.791806    5  10154   Z     WATER\n",
      "4    1.049579  10.286840    6  10150   L      LAND\n",
      "..        ...        ...  ...    ...  ..       ...\n",
      "132  0.000022   0.023887  134   5886   L      LAND\n",
      "133  0.000024   0.020410  135   5899   Z     WATER\n",
      "134  0.018832   3.797643  136  10148   8  UNMAPPED\n",
      "135  0.000028   0.029652  137   5850   Z     WATER\n",
      "136  0.000035   0.025554  138   5885   L      LAND\n",
      "\n",
      "[137 rows x 6 columns]\n"
     ]
    }
   ],
   "source": [
    "print(gdf_MTL_fundl)"
   ]
  },
  {
   "cell_type": "code",
   "execution_count": 16,
   "id": "35f4f15c-78af-488e-aab1-e846ba46cfc1",
   "metadata": {},
   "outputs": [
    {
     "name": "stdout",
     "output_type": "stream",
     "text": [
      "          AREA  PERIMETER   NUM    ID        CLI\n",
      "0     0.022229   1.432487     2  3792  a031h   2\n",
      "1     0.002121   0.462454     3  3787  a031h   3\n",
      "2     0.000459   0.120805     4  3783  a031h   4\n",
      "3     0.001145   0.273557     5  3785  a031h   5\n",
      "4     0.000254   0.071044     6  3784  a031h   6\n",
      "...        ...        ...   ...   ...        ...\n",
      "1265  0.000754   0.139009  1267  3216  a031h1267\n",
      "1266  0.000247   0.061781  1268  3541  a031h1268\n",
      "1267  0.000616   0.143750  1269  3791  a031h1269\n",
      "1268  0.000403   0.123502  1270  3828  a031h1270\n",
      "1269  0.007590   3.207829  1271  3731  a031h1271\n",
      "\n",
      "[1270 rows x 5 columns]\n"
     ]
    }
   ],
   "source": [
    "gdf_MTL_detailed = gpd.read_file(\"a031h.dbf\")\n",
    "print(gdf_MTL_detailed)"
   ]
  },
  {
   "cell_type": "code",
   "execution_count": 17,
   "id": "913ba294-c6ce-4ab0-a7f4-b8caa4e41523",
   "metadata": {},
   "outputs": [
    {
     "name": "stdout",
     "output_type": "stream",
     "text": [
      "The gdf_MTL_fundl data set:\n",
      "<class 'pandas.core.frame.DataFrame'>\n",
      "RangeIndex: 137 entries, 0 to 136\n",
      "Data columns (total 6 columns):\n",
      " #   Column     Non-Null Count  Dtype  \n",
      "---  ------     --------------  -----  \n",
      " 0   AREA       137 non-null    float64\n",
      " 1   PERIMETER  137 non-null    float64\n",
      " 2   NUM        137 non-null    int64  \n",
      " 3   ID         137 non-null    int64  \n",
      " 4   USE        137 non-null    object \n",
      " 5   TYPE       137 non-null    object \n",
      "dtypes: float64(2), int64(2), object(2)\n",
      "memory usage: 6.6+ KB\n",
      "\n",
      "The gdf_MTL_detailed data set:\n",
      "<class 'pandas.core.frame.DataFrame'>\n",
      "RangeIndex: 1270 entries, 0 to 1269\n",
      "Data columns (total 5 columns):\n",
      " #   Column     Non-Null Count  Dtype  \n",
      "---  ------     --------------  -----  \n",
      " 0   AREA       1270 non-null   float64\n",
      " 1   PERIMETER  1270 non-null   float64\n",
      " 2   NUM        1270 non-null   int64  \n",
      " 3   ID         1270 non-null   int64  \n",
      " 4   CLI        1270 non-null   object \n",
      "dtypes: float64(2), int64(2), object(1)\n",
      "memory usage: 49.7+ KB\n"
     ]
    }
   ],
   "source": [
    "print(\"The gdf_MTL_fundl data set:\")\n",
    "gdf_MTL_fundl.info()\n",
    "\n",
    "print(\"\\nThe gdf_MTL_detailed data set:\")\n",
    "gdf_MTL_detailed.info()\n"
   ]
  },
  {
   "cell_type": "code",
   "execution_count": 18,
   "id": "6ef0c357-44b6-43e0-a842-7f5b3884ebb9",
   "metadata": {},
   "outputs": [
    {
     "name": "stdout",
     "output_type": "stream",
     "text": [
      "              AREA    PERIMETER         NUM           ID\n",
      "count  1270.000000  1270.000000  1270.00000  1270.000000\n",
      "mean      0.001575     0.275811   636.50000  3191.537008\n",
      "std       0.004019     0.354487   366.76173   370.416067\n",
      "min       0.000014     0.015374     2.00000  2551.000000\n",
      "25%       0.000395     0.113267   319.25000  2870.250000\n",
      "50%       0.000793     0.190572   636.50000  3192.500000\n",
      "75%       0.001567     0.320065   953.75000  3511.750000\n",
      "max       0.089534     6.740735  1271.00000  3833.000000\n"
     ]
    }
   ],
   "source": [
    "print(gdf_MTL_detailed.describe())"
   ]
  },
  {
   "cell_type": "code",
   "execution_count": 19,
   "id": "7f9e502d-7d54-43ad-9b52-8dc430acadc1",
   "metadata": {},
   "outputs": [
    {
     "name": "stdout",
     "output_type": "stream",
     "text": [
      "          AREA  PERIMETER   NUM    ID\n",
      "0     0.022229   1.432487     2  3792\n",
      "1     0.002121   0.462454     3  3787\n",
      "2     0.000459   0.120805     4  3783\n",
      "3     0.001145   0.273557     5  3785\n",
      "4     0.000254   0.071044     6  3784\n",
      "...        ...        ...   ...   ...\n",
      "1265  0.000754   0.139009  1267  3216\n",
      "1266  0.000247   0.061781  1268  3541\n",
      "1267  0.000616   0.143750  1269  3791\n",
      "1268  0.000403   0.123502  1270  3828\n",
      "1269  0.007590   3.207829  1271  3731\n",
      "\n",
      "[1270 rows x 4 columns]\n"
     ]
    }
   ],
   "source": [
    "print(gdf_MTL_detailed.iloc[:, :-1])"
   ]
  },
  {
   "cell_type": "markdown",
   "id": "4932688b-4153-45a7-b421-0531d82b1f4f",
   "metadata": {},
   "source": [
    "## Efficiency: Largest area, minimize perimeter (imagine fencing cost, or want all animals in close perimeter)"
   ]
  },
  {
   "cell_type": "code",
   "execution_count": 20,
   "id": "75b9eea6-8b8c-4659-acf7-c8f4549f7031",
   "metadata": {},
   "outputs": [
    {
     "name": "stdout",
     "output_type": "stream",
     "text": [
      "Land with max area: Area = 0.089534491, Perimeter = 6.7407351 (Row index: 61)\n"
     ]
    }
   ],
   "source": [
    "max_area = 0\n",
    "min_perimeter = 0 \n",
    "best_row = None  # Variable to store the row with max area and min perimeter\n",
    "best_index = None  # Variable to store the index of the best row\n",
    "\n",
    "\n",
    "for index, row in gdf_MTL_detailed.iterrows():\n",
    "    area = row['AREA']\n",
    "    perimeter = row['PERIMETER']\n",
    "    \n",
    "    # If current area is greater than max_area, update max_area and reset min_perimeter\n",
    "    if area > max_area:\n",
    "        max_area = area\n",
    "        min_perimeter = perimeter\n",
    "        best_row = row\n",
    "        best_index = index\n",
    "        \n",
    "    # If current area equals max_area but has a smaller perimeter, update min_perimeter\n",
    "    elif area == max_area and perimeter < min_perimeter:\n",
    "        min_perimeter = perimeter\n",
    "        best_row = row\n",
    "        best_index = index\n",
    "\n",
    "print(f\"Land with max area: Area = {best_row['AREA']}, Perimeter = {best_row['PERIMETER']} (Row index: {best_index})\")\n"
   ]
  },
  {
   "cell_type": "code",
   "execution_count": null,
   "id": "37935a6a-70a9-4f6a-8d96-cfaf31a2e933",
   "metadata": {},
   "outputs": [],
   "source": []
  }
 ],
 "metadata": {
  "kernelspec": {
   "display_name": "Python 3 (ipykernel)",
   "language": "python",
   "name": "python3"
  },
  "language_info": {
   "codemirror_mode": {
    "name": "ipython",
    "version": 3
   },
   "file_extension": ".py",
   "mimetype": "text/x-python",
   "name": "python",
   "nbconvert_exporter": "python",
   "pygments_lexer": "ipython3",
   "version": "3.13.2"
  }
 },
 "nbformat": 4,
 "nbformat_minor": 5
}
